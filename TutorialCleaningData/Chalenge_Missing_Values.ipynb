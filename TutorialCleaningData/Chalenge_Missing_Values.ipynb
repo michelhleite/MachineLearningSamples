{
  "cells": [
    {
      "metadata": {
        "_uuid": "6ac53f18b4f4ec0fc44348cedb5d1c319fa127c0",
        "_cell_guid": "b91a74ba-85f4-486e-b5f9-d0898f0626bf"
      },
      "cell_type": "markdown",
      "source": "Welcome to day 1 of the 5-Day Data Challenge! Today, we're going to be looking at how to deal with missing values. To get started, click the blue \"Fork Notebook\" button in the upper, right hand corner. This will create a private copy of this notebook that you can edit and play with. Once you're finished with the exercises, you can choose to make your notebook public to share with others. :)\n\n> **Your turn!** As we work through this notebook, you'll see some notebook cells (a block of either code or text) that has \"Your Turn!\" written in it. These are exercises for you to do to help cement your understanding of the concepts we're talking about. Once you've written the code to answer a specific question, you can run the code by clicking inside the cell (box with code in it) with the code you want to run and then hit CTRL + ENTER (CMD + ENTER on a Mac). You can also click in a cell and then click on the right \"play\" arrow to the left of the code. If you want to run all the code in your notebook, you can use the double, \"fast forward\" arrows at the bottom of the notebook editor.\n\nHere's what we're going to do today:\n\n* [Take a first look at the data](#Take-a-first-look-at-the-data)\n* [See how many missing data points we have](#See-how-many-missing-data-points-we-have)\n* [Figure out why the data is missing](#Figure-out-why-the-data-is-missing)\n* [Drop missing values](#Drop-missing-values)\n* [Filling in missing values](#Filling-in-missing-values)\n\nLet's get started!"
    },
    {
      "metadata": {
        "_uuid": "9d82bf13584b8e682962fbb96131f2447d741679",
        "_cell_guid": "5cd5061f-ae30-4837-a53b-690ffd5c5830"
      },
      "cell_type": "markdown",
      "source": "# Take a first look at the data\n________\n\nThe first thing we'll need to do is load in the libraries and datasets we'll be using. For today, I'll be using a dataset of events that occured in American Football games for demonstration, and you'll be using a dataset of building permits issued in San Francisco.\n\n> **Important!** Make sure you run this cell yourself or the rest of your code won't work!"
    },
    {
      "metadata": {
        "_uuid": "835cbe0834b935fb0fd40c75b9c39454836f4d5f",
        "_cell_guid": "135a7804-b5f5-40aa-8657-4a15774e3666",
        "trusted": true
      },
      "cell_type": "code",
      "source": "# modules we'll use\nimport pandas as pd\nimport numpy as np\n\n# read in all our data\nnfl_data = pd.read_csv(\"../input/nflplaybyplay2009to2016/NFL Play by Play 2009-2017 (v4).csv\")\nsf_permits = pd.read_csv(\"../input/building-permit-applications-data/Building_Permits.csv\")\n\n# set seed for reproducibility\nnp.random.seed(0) ",
      "execution_count": 11,
      "outputs": [
        {
          "output_type": "stream",
          "text": "/opt/conda/lib/python3.6/site-packages/IPython/core/interactiveshell.py:2698: DtypeWarning: Columns (25,51) have mixed types. Specify dtype option on import or set low_memory=False.\n  interactivity=interactivity, compiler=compiler, result=result)\n/opt/conda/lib/python3.6/site-packages/IPython/core/interactiveshell.py:2698: DtypeWarning: Columns (22,32) have mixed types. Specify dtype option on import or set low_memory=False.\n  interactivity=interactivity, compiler=compiler, result=result)\n",
          "name": "stderr"
        }
      ]
    },
    {
      "metadata": {
        "_uuid": "53c84bf86149ac41b237633a1a79d6130d6a2cd4",
        "_cell_guid": "09b58d03-d34d-497a-b298-12a0ae962e3d"
      },
      "cell_type": "markdown",
      "source": "The first thing I do when I get a new dataset is take a look at some of it. This lets me see that it all read in correctly and get an idea of what's going on with the data. In this case, I'm looking to see if I see any missing values, which will be reprsented with `NaN` or `None`."
    },
    {
      "metadata": {
        "_uuid": "d629ff2d2480ee46fbb7e2d37f6b5fab8052498a",
        "_cell_guid": "79c7e3d0-c299-4dcb-8224-4455121ee9b0",
        "trusted": true
      },
      "cell_type": "code",
      "source": "# look at a few rows of the nfl_data file. I can see a handful of missing data already!\nnfl_data.sample(5)",
      "execution_count": 3,
      "outputs": [
        {
          "output_type": "execute_result",
          "execution_count": 3,
          "data": {
            "text/plain": "              Date      GameID  Drive  qtr  down   time  TimeUnder  TimeSecs  \\\n142828  2012-09-24  2012092400      3    1   1.0  09:25         10    3265.0   \n69534   2010-11-14  2010111408     15    3   2.0  05:37          6    1237.0   \n372672  2017-10-01  2017100111      1    1   2.0  14:23         15    3563.0   \n290484  2015-11-01  2015110107     18    3   NaN  15:00         15    1800.0   \n206636  2013-11-17  2013111707     15    2   4.0  00:07          1    1807.0   \n\n        PlayTimeDiff SideofField   ...      yacEPA  Home_WP_pre  Away_WP_pre  \\\n142828          39.0         SEA   ...    1.379042     0.522390     0.477610   \n69534           46.0         NYG   ...         NaN     0.053894     0.946106   \n372672          37.0         NYG   ...         NaN     0.524307     0.475693   \n290484           0.0          SF   ...         NaN     0.893864     0.106136   \n206636           5.0         PIT   ...         NaN     0.260880     0.739120   \n\n        Home_WP_post  Away_WP_post  Win_Prob       WPA    airWPA    yacWPA  \\\n142828      0.562151      0.437849  0.522390  0.039762 -0.002897  0.042659   \n69534       0.085723      0.914277  0.053894  0.031830       NaN       NaN   \n372672      0.578703      0.421297  0.475693 -0.054396       NaN       NaN   \n290484      0.889745      0.110255  0.893864 -0.004119       NaN       NaN   \n206636      0.279439      0.720561  0.739120 -0.018559       NaN       NaN   \n\n        Season  \n142828    2012  \n69534     2010  \n372672    2017  \n290484    2015  \n206636    2013  \n\n[5 rows x 102 columns]",
            "text/html": "<div>\n<style scoped>\n    .dataframe tbody tr th:only-of-type {\n        vertical-align: middle;\n    }\n\n    .dataframe tbody tr th {\n        vertical-align: top;\n    }\n\n    .dataframe thead th {\n        text-align: right;\n    }\n</style>\n<table border=\"1\" class=\"dataframe\">\n  <thead>\n    <tr style=\"text-align: right;\">\n      <th></th>\n      <th>Date</th>\n      <th>GameID</th>\n      <th>Drive</th>\n      <th>qtr</th>\n      <th>down</th>\n      <th>time</th>\n      <th>TimeUnder</th>\n      <th>TimeSecs</th>\n      <th>PlayTimeDiff</th>\n      <th>SideofField</th>\n      <th>...</th>\n      <th>yacEPA</th>\n      <th>Home_WP_pre</th>\n      <th>Away_WP_pre</th>\n      <th>Home_WP_post</th>\n      <th>Away_WP_post</th>\n      <th>Win_Prob</th>\n      <th>WPA</th>\n      <th>airWPA</th>\n      <th>yacWPA</th>\n      <th>Season</th>\n    </tr>\n  </thead>\n  <tbody>\n    <tr>\n      <th>142828</th>\n      <td>2012-09-24</td>\n      <td>2012092400</td>\n      <td>3</td>\n      <td>1</td>\n      <td>1.0</td>\n      <td>09:25</td>\n      <td>10</td>\n      <td>3265.0</td>\n      <td>39.0</td>\n      <td>SEA</td>\n      <td>...</td>\n      <td>1.379042</td>\n      <td>0.522390</td>\n      <td>0.477610</td>\n      <td>0.562151</td>\n      <td>0.437849</td>\n      <td>0.522390</td>\n      <td>0.039762</td>\n      <td>-0.002897</td>\n      <td>0.042659</td>\n      <td>2012</td>\n    </tr>\n    <tr>\n      <th>69534</th>\n      <td>2010-11-14</td>\n      <td>2010111408</td>\n      <td>15</td>\n      <td>3</td>\n      <td>2.0</td>\n      <td>05:37</td>\n      <td>6</td>\n      <td>1237.0</td>\n      <td>46.0</td>\n      <td>NYG</td>\n      <td>...</td>\n      <td>NaN</td>\n      <td>0.053894</td>\n      <td>0.946106</td>\n      <td>0.085723</td>\n      <td>0.914277</td>\n      <td>0.053894</td>\n      <td>0.031830</td>\n      <td>NaN</td>\n      <td>NaN</td>\n      <td>2010</td>\n    </tr>\n    <tr>\n      <th>372672</th>\n      <td>2017-10-01</td>\n      <td>2017100111</td>\n      <td>1</td>\n      <td>1</td>\n      <td>2.0</td>\n      <td>14:23</td>\n      <td>15</td>\n      <td>3563.0</td>\n      <td>37.0</td>\n      <td>NYG</td>\n      <td>...</td>\n      <td>NaN</td>\n      <td>0.524307</td>\n      <td>0.475693</td>\n      <td>0.578703</td>\n      <td>0.421297</td>\n      <td>0.475693</td>\n      <td>-0.054396</td>\n      <td>NaN</td>\n      <td>NaN</td>\n      <td>2017</td>\n    </tr>\n    <tr>\n      <th>290484</th>\n      <td>2015-11-01</td>\n      <td>2015110107</td>\n      <td>18</td>\n      <td>3</td>\n      <td>NaN</td>\n      <td>15:00</td>\n      <td>15</td>\n      <td>1800.0</td>\n      <td>0.0</td>\n      <td>SF</td>\n      <td>...</td>\n      <td>NaN</td>\n      <td>0.893864</td>\n      <td>0.106136</td>\n      <td>0.889745</td>\n      <td>0.110255</td>\n      <td>0.893864</td>\n      <td>-0.004119</td>\n      <td>NaN</td>\n      <td>NaN</td>\n      <td>2015</td>\n    </tr>\n    <tr>\n      <th>206636</th>\n      <td>2013-11-17</td>\n      <td>2013111707</td>\n      <td>15</td>\n      <td>2</td>\n      <td>4.0</td>\n      <td>00:07</td>\n      <td>1</td>\n      <td>1807.0</td>\n      <td>5.0</td>\n      <td>PIT</td>\n      <td>...</td>\n      <td>NaN</td>\n      <td>0.260880</td>\n      <td>0.739120</td>\n      <td>0.279439</td>\n      <td>0.720561</td>\n      <td>0.739120</td>\n      <td>-0.018559</td>\n      <td>NaN</td>\n      <td>NaN</td>\n      <td>2013</td>\n    </tr>\n  </tbody>\n</table>\n<p>5 rows × 102 columns</p>\n</div>"
          },
          "metadata": {}
        }
      ]
    },
    {
      "metadata": {
        "_uuid": "03ce3b4afe87d98f777172c2c7be066a66a0b237",
        "_cell_guid": "604ac3a4-b1d9-4264-b312-4bbeecdeec00"
      },
      "cell_type": "markdown",
      "source": "Yep, it looks like there's some missing values. What about in the sf_permits dataset?"
    },
    {
      "metadata": {
        "_uuid": "e389495bb2e5d27ab632d5f3648ca1f912c94706",
        "_cell_guid": "8dca377c-95be-40ec-87dc-61a8fca750e2",
        "trusted": true
      },
      "cell_type": "code",
      "source": "# your turn! Look at a couple of rows from the sf_permits dataset. Do you notice any missing data?\n\n# your code goes here :)\nsf_permits.sample(10)",
      "execution_count": 12,
      "outputs": [
        {
          "output_type": "execute_result",
          "execution_count": 12,
          "data": {
            "text/plain": "       Permit Number  Permit Type            Permit Type Definition  \\\n40553   201403039652            8            otc alterations permit   \n169731  201510159735            3  additions alterations or repairs   \n19180        M409787            8            otc alterations permit   \n68047   201411191888            8            otc alterations permit   \n64238        M527228            8            otc alterations permit   \n27703        M434527            8            otc alterations permit   \n109281  201512175360            8            otc alterations permit   \n15075   201306109020            8            otc alterations permit   \n59124   201408264765            8            otc alterations permit   \n175167  201702240086            8            otc alterations permit   \n\n       Permit Creation Date Block  Lot  Street Number Street Number Suffix  \\\n40553            03/03/2014  3732  008            400                  NaN   \n169731           10/15/2015  2609  028             79                  NaN   \n19180            07/22/2013  4624  031            178                  NaN   \n68047            11/19/2014  0039  109            294                  NaN   \n64238            10/14/2014  1251  002            707                  NaN   \n27703            10/11/2013  0348  015            277                  NaN   \n109281           12/17/2015  0061  013             40                  NaN   \n15075            06/10/2013  0262  020            100                  NaN   \n59124            08/26/2014  0321  016            650                  NaN   \n175167           02/24/2017  6533  028            451                  NaN   \n\n        Street Name Street Suffix      ...        Existing Construction Type  \\\n40553    Clementina            St      ...                               NaN   \n169731  Buena Vista            Tr      ...                               5.0   \n19180    West Point            Rd      ...                               NaN   \n68047     Francisco            St      ...                               5.0   \n64238          Cole            St      ...                               NaN   \n27703   Golden Gate            Av      ...                               NaN   \n109281      Whiting            St      ...                               5.0   \n15075          Pine            St      ...                               1.0   \n59124         Ellis            St      ...                               5.0   \n175167    Fair Oaks            St      ...                               5.0   \n\n       Existing Construction Type Description Proposed Construction Type  \\\n40553                                     NaN                        1.0   \n169731                         wood frame (5)                        5.0   \n19180                                     NaN                        NaN   \n68047                          wood frame (5)                        5.0   \n64238                                     NaN                        NaN   \n27703                                     NaN                        NaN   \n109281                         wood frame (5)                        5.0   \n15075                           constr type 1                        1.0   \n59124                          wood frame (5)                        5.0   \n175167                         wood frame (5)                        5.0   \n\n       Proposed Construction Type Description Site Permit Supervisor District  \\\n40553                           constr type 1         NaN                 6.0   \n169731                         wood frame (5)         NaN                 8.0   \n19180                                     NaN         NaN                10.0   \n68047                          wood frame (5)         NaN                 3.0   \n64238                                     NaN         NaN                 5.0   \n27703                                     NaN         NaN                 6.0   \n109281                         wood frame (5)         NaN                 3.0   \n15075                           constr type 1         NaN                 3.0   \n59124                          wood frame (5)         NaN                 6.0   \n175167                         wood frame (5)         NaN                 8.0   \n\n       Neighborhoods - Analysis Boundaries  Zipcode  \\\n40553                      South of Market  94103.0   \n169731                 Castro/Upper Market  94117.0   \n19180                Bayview Hunters Point  94124.0   \n68047                          North Beach  94133.0   \n64238                       Haight Ashbury  94117.0   \n27703                           Tenderloin  94102.0   \n109281                         North Beach  94133.0   \n15075       Financial District/South Beach  94111.0   \n59124                           Tenderloin  94109.0   \n175167                             Mission  94110.0   \n\n                                         Location      Record ID  \n40553   (37.780460571778164, -122.40450626524974)  1334094491645  \n169731   (37.76757916496494, -122.43793170417105)  1399356139170  \n19180    (37.73524725436046, -122.38063828309745)  1311685491725  \n68047   (37.805257822817126, -122.40998545760392)  1362881288870  \n64238    (37.76836885973765, -122.45074431487859)   135886493776  \n27703   (37.781433365757565, -122.41487518938789)  1320626301305  \n109281   (37.80389212201969, -122.40804427557475)   140688357279  \n15075   (37.792635570892635, -122.39899511726274)  1307390420381  \n59124    (37.78461816669083, -122.41700445197698)  1353527233881  \n175167   (37.74948705332759, -122.42343069698013)  1454274206536  \n\n[10 rows x 43 columns]",
            "text/html": "<div>\n<style scoped>\n    .dataframe tbody tr th:only-of-type {\n        vertical-align: middle;\n    }\n\n    .dataframe tbody tr th {\n        vertical-align: top;\n    }\n\n    .dataframe thead th {\n        text-align: right;\n    }\n</style>\n<table border=\"1\" class=\"dataframe\">\n  <thead>\n    <tr style=\"text-align: right;\">\n      <th></th>\n      <th>Permit Number</th>\n      <th>Permit Type</th>\n      <th>Permit Type Definition</th>\n      <th>Permit Creation Date</th>\n      <th>Block</th>\n      <th>Lot</th>\n      <th>Street Number</th>\n      <th>Street Number Suffix</th>\n      <th>Street Name</th>\n      <th>Street Suffix</th>\n      <th>...</th>\n      <th>Existing Construction Type</th>\n      <th>Existing Construction Type Description</th>\n      <th>Proposed Construction Type</th>\n      <th>Proposed Construction Type Description</th>\n      <th>Site Permit</th>\n      <th>Supervisor District</th>\n      <th>Neighborhoods - Analysis Boundaries</th>\n      <th>Zipcode</th>\n      <th>Location</th>\n      <th>Record ID</th>\n    </tr>\n  </thead>\n  <tbody>\n    <tr>\n      <th>40553</th>\n      <td>201403039652</td>\n      <td>8</td>\n      <td>otc alterations permit</td>\n      <td>03/03/2014</td>\n      <td>3732</td>\n      <td>008</td>\n      <td>400</td>\n      <td>NaN</td>\n      <td>Clementina</td>\n      <td>St</td>\n      <td>...</td>\n      <td>NaN</td>\n      <td>NaN</td>\n      <td>1.0</td>\n      <td>constr type 1</td>\n      <td>NaN</td>\n      <td>6.0</td>\n      <td>South of Market</td>\n      <td>94103.0</td>\n      <td>(37.780460571778164, -122.40450626524974)</td>\n      <td>1334094491645</td>\n    </tr>\n    <tr>\n      <th>169731</th>\n      <td>201510159735</td>\n      <td>3</td>\n      <td>additions alterations or repairs</td>\n      <td>10/15/2015</td>\n      <td>2609</td>\n      <td>028</td>\n      <td>79</td>\n      <td>NaN</td>\n      <td>Buena Vista</td>\n      <td>Tr</td>\n      <td>...</td>\n      <td>5.0</td>\n      <td>wood frame (5)</td>\n      <td>5.0</td>\n      <td>wood frame (5)</td>\n      <td>NaN</td>\n      <td>8.0</td>\n      <td>Castro/Upper Market</td>\n      <td>94117.0</td>\n      <td>(37.76757916496494, -122.43793170417105)</td>\n      <td>1399356139170</td>\n    </tr>\n    <tr>\n      <th>19180</th>\n      <td>M409787</td>\n      <td>8</td>\n      <td>otc alterations permit</td>\n      <td>07/22/2013</td>\n      <td>4624</td>\n      <td>031</td>\n      <td>178</td>\n      <td>NaN</td>\n      <td>West Point</td>\n      <td>Rd</td>\n      <td>...</td>\n      <td>NaN</td>\n      <td>NaN</td>\n      <td>NaN</td>\n      <td>NaN</td>\n      <td>NaN</td>\n      <td>10.0</td>\n      <td>Bayview Hunters Point</td>\n      <td>94124.0</td>\n      <td>(37.73524725436046, -122.38063828309745)</td>\n      <td>1311685491725</td>\n    </tr>\n    <tr>\n      <th>68047</th>\n      <td>201411191888</td>\n      <td>8</td>\n      <td>otc alterations permit</td>\n      <td>11/19/2014</td>\n      <td>0039</td>\n      <td>109</td>\n      <td>294</td>\n      <td>NaN</td>\n      <td>Francisco</td>\n      <td>St</td>\n      <td>...</td>\n      <td>5.0</td>\n      <td>wood frame (5)</td>\n      <td>5.0</td>\n      <td>wood frame (5)</td>\n      <td>NaN</td>\n      <td>3.0</td>\n      <td>North Beach</td>\n      <td>94133.0</td>\n      <td>(37.805257822817126, -122.40998545760392)</td>\n      <td>1362881288870</td>\n    </tr>\n    <tr>\n      <th>64238</th>\n      <td>M527228</td>\n      <td>8</td>\n      <td>otc alterations permit</td>\n      <td>10/14/2014</td>\n      <td>1251</td>\n      <td>002</td>\n      <td>707</td>\n      <td>NaN</td>\n      <td>Cole</td>\n      <td>St</td>\n      <td>...</td>\n      <td>NaN</td>\n      <td>NaN</td>\n      <td>NaN</td>\n      <td>NaN</td>\n      <td>NaN</td>\n      <td>5.0</td>\n      <td>Haight Ashbury</td>\n      <td>94117.0</td>\n      <td>(37.76836885973765, -122.45074431487859)</td>\n      <td>135886493776</td>\n    </tr>\n    <tr>\n      <th>27703</th>\n      <td>M434527</td>\n      <td>8</td>\n      <td>otc alterations permit</td>\n      <td>10/11/2013</td>\n      <td>0348</td>\n      <td>015</td>\n      <td>277</td>\n      <td>NaN</td>\n      <td>Golden Gate</td>\n      <td>Av</td>\n      <td>...</td>\n      <td>NaN</td>\n      <td>NaN</td>\n      <td>NaN</td>\n      <td>NaN</td>\n      <td>NaN</td>\n      <td>6.0</td>\n      <td>Tenderloin</td>\n      <td>94102.0</td>\n      <td>(37.781433365757565, -122.41487518938789)</td>\n      <td>1320626301305</td>\n    </tr>\n    <tr>\n      <th>109281</th>\n      <td>201512175360</td>\n      <td>8</td>\n      <td>otc alterations permit</td>\n      <td>12/17/2015</td>\n      <td>0061</td>\n      <td>013</td>\n      <td>40</td>\n      <td>NaN</td>\n      <td>Whiting</td>\n      <td>St</td>\n      <td>...</td>\n      <td>5.0</td>\n      <td>wood frame (5)</td>\n      <td>5.0</td>\n      <td>wood frame (5)</td>\n      <td>NaN</td>\n      <td>3.0</td>\n      <td>North Beach</td>\n      <td>94133.0</td>\n      <td>(37.80389212201969, -122.40804427557475)</td>\n      <td>140688357279</td>\n    </tr>\n    <tr>\n      <th>15075</th>\n      <td>201306109020</td>\n      <td>8</td>\n      <td>otc alterations permit</td>\n      <td>06/10/2013</td>\n      <td>0262</td>\n      <td>020</td>\n      <td>100</td>\n      <td>NaN</td>\n      <td>Pine</td>\n      <td>St</td>\n      <td>...</td>\n      <td>1.0</td>\n      <td>constr type 1</td>\n      <td>1.0</td>\n      <td>constr type 1</td>\n      <td>NaN</td>\n      <td>3.0</td>\n      <td>Financial District/South Beach</td>\n      <td>94111.0</td>\n      <td>(37.792635570892635, -122.39899511726274)</td>\n      <td>1307390420381</td>\n    </tr>\n    <tr>\n      <th>59124</th>\n      <td>201408264765</td>\n      <td>8</td>\n      <td>otc alterations permit</td>\n      <td>08/26/2014</td>\n      <td>0321</td>\n      <td>016</td>\n      <td>650</td>\n      <td>NaN</td>\n      <td>Ellis</td>\n      <td>St</td>\n      <td>...</td>\n      <td>5.0</td>\n      <td>wood frame (5)</td>\n      <td>5.0</td>\n      <td>wood frame (5)</td>\n      <td>NaN</td>\n      <td>6.0</td>\n      <td>Tenderloin</td>\n      <td>94109.0</td>\n      <td>(37.78461816669083, -122.41700445197698)</td>\n      <td>1353527233881</td>\n    </tr>\n    <tr>\n      <th>175167</th>\n      <td>201702240086</td>\n      <td>8</td>\n      <td>otc alterations permit</td>\n      <td>02/24/2017</td>\n      <td>6533</td>\n      <td>028</td>\n      <td>451</td>\n      <td>NaN</td>\n      <td>Fair Oaks</td>\n      <td>St</td>\n      <td>...</td>\n      <td>5.0</td>\n      <td>wood frame (5)</td>\n      <td>5.0</td>\n      <td>wood frame (5)</td>\n      <td>NaN</td>\n      <td>8.0</td>\n      <td>Mission</td>\n      <td>94110.0</td>\n      <td>(37.74948705332759, -122.42343069698013)</td>\n      <td>1454274206536</td>\n    </tr>\n  </tbody>\n</table>\n<p>10 rows × 43 columns</p>\n</div>"
          },
          "metadata": {}
        }
      ]
    },
    {
      "metadata": {
        "_uuid": "400b025f618cc76a39fec2537193f28ba1e49168",
        "_cell_guid": "33656c2b-a74e-4b76-9af2-d7ecd518577b"
      },
      "cell_type": "markdown",
      "source": "# See how many missing data points we have\n___\n\nOk, now we know that we do have some missing values. Let's see how many we have in each column. "
    },
    {
      "metadata": {
        "_uuid": "6dc0e32180c4a3bba003e7886faf126d93affadf",
        "_cell_guid": "a69ac02d-197b-487b-a38f-2f853d208eed",
        "trusted": true
      },
      "cell_type": "code",
      "source": "# get the number of missing data points per column\nmissing_values_count = nfl_data.isnull().sum()\n\n# look at the # of missing points in the first ten columns\nmissing_values_count[0:10]",
      "execution_count": 13,
      "outputs": [
        {
          "output_type": "execute_result",
          "execution_count": 13,
          "data": {
            "text/plain": "Date                0\nGameID              0\nDrive               0\nqtr                 0\ndown            61154\ntime              224\nTimeUnder           0\nTimeSecs          224\nPlayTimeDiff      444\nSideofField       528\ndtype: int64"
          },
          "metadata": {}
        }
      ]
    },
    {
      "metadata": {
        "_uuid": "054ba8782a7b0555336eddb90c985fb638beac4d",
        "_cell_guid": "84455c7e-6c63-4e08-a7b4-7520a61072f9"
      },
      "cell_type": "markdown",
      "source": "That seems like a lot! It might be helpful to see what percentage of the values in our dataset were missing to give us a better sense of the scale of this problem:"
    },
    {
      "metadata": {
        "_uuid": "d6e65ba197893f29d9dce0b0cd1c75017b60db09",
        "_cell_guid": "fb77dd56-192e-48be-8181-2082985dd5a2",
        "trusted": true
      },
      "cell_type": "code",
      "source": "# how many total missing values do we have?\ntotal_cells = np.product(nfl_data.shape)\ntotal_missing = missing_values_count.sum()\n\n# percent of data that is missing\n(total_missing/total_cells) * 100",
      "execution_count": 14,
      "outputs": [
        {
          "output_type": "execute_result",
          "execution_count": 14,
          "data": {
            "text/plain": "24.87214126835169"
          },
          "metadata": {}
        }
      ]
    },
    {
      "metadata": {
        "_uuid": "3331fa42efa16f3db2e8e196411f351c5f8309f5",
        "_cell_guid": "31daa324-9215-4930-985c-01dee717b6b8"
      },
      "cell_type": "markdown",
      "source": "Wow, almost a quarter of the cells in this dataset are empty! In the next step, we're going to take a closer look at some of the columns with missing values and try to figure out what might be going on with them."
    },
    {
      "metadata": {
        "_uuid": "64487760aa1afaaa8b8a4d1f95206773759db101",
        "_cell_guid": "f20a9474-41ee-4ecd-a2f4-1ab147fc8655",
        "trusted": true
      },
      "cell_type": "code",
      "source": "# your turn! Find out what percent of the sf_permit dataset is missing\nmissing_values_count2 = sf_permits.isnull().sum()\nmissing_values_count2[0:43]\ntotal_cells2 = np.product(sf_permits.shape)\ntotal_missing2 = missing_values_count2.sum()\n(total_missing2/total_cells2) * 100",
      "execution_count": 15,
      "outputs": [
        {
          "output_type": "execute_result",
          "execution_count": 15,
          "data": {
            "text/plain": "26.26002315058403"
          },
          "metadata": {}
        }
      ]
    },
    {
      "metadata": {
        "_uuid": "032a618abb98a28e60ab84376cf21402178f995d",
        "_cell_guid": "62b9f021-5b80-43e2-bf60-8e0d5e22d572"
      },
      "cell_type": "markdown",
      "source": "# Figure out why the data is missing\n____\n \nThis is the point at which we get into the part of data science that I like to call \"data intution\", by which I mean \"really looking at your data and trying to figure out why it is the way it is and how that will affect your analysis\". It can be a frustrating part of data science, especially if you're newer to the field and don't have a lot of experience. For dealing with missing values, you'll need to use your intution to figure out why the value is missing. One of the most important question you can ask yourself to help figure this out is this:\n\n> **Is this value missing becuase it wasn't recorded or becuase it dosen't exist?**\n\nIf a value is missing becuase it doens't exist (like the height of the oldest child of someone who doesn't have any children) then it doesn't make sense to try and guess what it might be. These values you probalby do want to keep as NaN. On the other hand, if a value is missing becuase it wasn't recorded, then you can try to guess what it might have been based on the other values in that column and row. (This is called \"imputation\" and we'll learn how to do it next! :)\n\nLet's work through an example. Looking at the number of missing values in the nfl_data dataframe, I notice that the column `TimesSec` has a lot of missing values in it: "
    },
    {
      "metadata": {
        "_uuid": "b65aea6046964806e44422c057bce8bd7f8e59d5",
        "_cell_guid": "77739e82-8d32-4374-84bf-a924b6065168",
        "trusted": true
      },
      "cell_type": "code",
      "source": "# look at the # of missing points in the first ten columns\nmissing_values_count[0:10]",
      "execution_count": 16,
      "outputs": [
        {
          "output_type": "execute_result",
          "execution_count": 16,
          "data": {
            "text/plain": "Date                0\nGameID              0\nDrive               0\nqtr                 0\ndown            61154\ntime              224\nTimeUnder           0\nTimeSecs          224\nPlayTimeDiff      444\nSideofField       528\ndtype: int64"
          },
          "metadata": {}
        }
      ]
    },
    {
      "metadata": {
        "_uuid": "5cff158285ab37a89b80dcc35d5c690cdb42d3a4",
        "_cell_guid": "1b17f4c9-dcab-4857-82f9-a2534e804c91"
      },
      "cell_type": "markdown",
      "source": "By looking at [the documentation](https://www.kaggle.com/maxhorowitz/nflplaybyplay2009to2016), I can see that this column has information on the number of seconds left in the game when the play was made. This means that these values are probably missing because they were not recorded, rather than because they don't exist. So, it would make sense for us to try and guess what they should be rather than just leaving them as NA's.\n\nOn the other hand, there are other fields, like `PenalizedTeam` that also have lot of missing fields. In this case, though, the field is missing because if there was no penalty then it doesn't make sense to say *which* team was penalized. For this column, it would make more sense to either leave it empty or to add a third value like \"neither\" and use that to replace the NA's.\n\n> **Tip:** This is a great place to read over the dataset documentation if you haven't already! If you're working with a dataset that you've gotten from another person, you can also try reaching out to them to get more information.\n\nIf you're doing very careful data analysis, this is the point at which you'd look at each column individually to figure out the best strategy for filling those missing values. For the rest of this notebook, we'll cover some \"quick and dirty\" techniques that can help you with missing values but will probably also end up removing some useful information or adding some noise to your data.\n\n## Your turn!\n\n* Look at the columns `Street Number Suffix` and `Zipcode` from the `sf_permits` datasets. Both of these contain missing values. Which, if either, of these are missing because they don't exist? Which, if either, are missing because they weren't recorded?"
    },
    {
      "metadata": {
        "trusted": true,
        "_uuid": "5da1d336eec451e27db6e761a5dee68ef9f7d806"
      },
      "cell_type": "code",
      "source": "missing_values_count2[0:43]",
      "execution_count": 17,
      "outputs": [
        {
          "output_type": "execute_result",
          "execution_count": 17,
          "data": {
            "text/plain": "Permit Number                                  0\nPermit Type                                    0\nPermit Type Definition                         0\nPermit Creation Date                           0\nBlock                                          0\nLot                                            0\nStreet Number                                  0\nStreet Number Suffix                      196684\nStreet Name                                    0\nStreet Suffix                               2768\nUnit                                      169421\nUnit Suffix                               196939\nDescription                                  290\nCurrent Status                                 0\nCurrent Status Date                            0\nFiled Date                                     0\nIssued Date                                14940\nCompleted Date                            101709\nFirst Construction Document Date           14946\nStructural Notification                   191978\nNumber of Existing Stories                 42784\nNumber of Proposed Stories                 42868\nVoluntary Soft-Story Retrofit             198865\nFire Only Permit                          180073\nPermit Expiration Date                     51880\nEstimated Cost                             38066\nRevised Cost                                6066\nExisting Use                               41114\nExisting Units                             51538\nProposed Use                               42439\nProposed Units                             50911\nPlansets                                   37309\nTIDF Compliance                           198898\nExisting Construction Type                 43366\nExisting Construction Type Description     43366\nProposed Construction Type                 43162\nProposed Construction Type Description     43162\nSite Permit                               193541\nSupervisor District                         1717\nNeighborhoods - Analysis Boundaries         1725\nZipcode                                     1716\nLocation                                    1700\nRecord ID                                      0\ndtype: int64"
          },
          "metadata": {}
        }
      ]
    },
    {
      "metadata": {
        "_uuid": "3f72f46f2464c7cd12f5eb2a752746ce1cd0b5a7",
        "_cell_guid": "ea022b62-6419-47e7-973e-c3e707e2795f"
      },
      "cell_type": "markdown",
      "source": "# Drop missing values\n___\n\nIf you're in a hurry or don't have a reason to figure out why your values are missing, one option you have is to just remove any rows or columns that contain missing values. (Note: I don't generally recommend this approch for important projects! It's usually worth it to take the time to go through your data and really look at all the columns with missing values one-by-one to really get to know your dataset.)  \n\nIf you're sure you want to drop rows with missing values, pandas does have a handy function, `dropna()` to help you do this. Let's try it out on our NFL dataset!"
    },
    {
      "metadata": {
        "_uuid": "ad8ef7825ba9bce3472a47d7c5242a4522f14065",
        "_cell_guid": "ad0ac9a2-2854-4bb7-8886-8eee7fad8756",
        "trusted": true
      },
      "cell_type": "code",
      "source": "# remove all the rows that contain a missing value\nnfl_data.dropna()",
      "execution_count": 18,
      "outputs": [
        {
          "output_type": "execute_result",
          "execution_count": 18,
          "data": {
            "text/plain": "Empty DataFrame\nColumns: [Date, GameID, Drive, qtr, down, time, TimeUnder, TimeSecs, PlayTimeDiff, SideofField, yrdln, yrdline100, ydstogo, ydsnet, GoalToGo, FirstDown, posteam, DefensiveTeam, desc, PlayAttempted, Yards.Gained, sp, Touchdown, ExPointResult, TwoPointConv, DefTwoPoint, Safety, Onsidekick, PuntResult, PlayType, Passer, Passer_ID, PassAttempt, PassOutcome, PassLength, AirYards, YardsAfterCatch, QBHit, PassLocation, InterceptionThrown, Interceptor, Rusher, Rusher_ID, RushAttempt, RunLocation, RunGap, Receiver, Receiver_ID, Reception, ReturnResult, Returner, BlockingPlayer, Tackler1, Tackler2, FieldGoalResult, FieldGoalDistance, Fumble, RecFumbTeam, RecFumbPlayer, Sack, Challenge.Replay, ChalReplayResult, Accepted.Penalty, PenalizedTeam, PenaltyType, PenalizedPlayer, Penalty.Yards, PosTeamScore, DefTeamScore, ScoreDiff, AbsScoreDiff, HomeTeam, AwayTeam, Timeout_Indicator, Timeout_Team, posteam_timeouts_pre, HomeTimeouts_Remaining_Pre, AwayTimeouts_Remaining_Pre, HomeTimeouts_Remaining_Post, AwayTimeouts_Remaining_Post, No_Score_Prob, Opp_Field_Goal_Prob, Opp_Safety_Prob, Opp_Touchdown_Prob, Field_Goal_Prob, Safety_Prob, Touchdown_Prob, ExPoint_Prob, TwoPoint_Prob, ExpPts, EPA, airEPA, yacEPA, Home_WP_pre, Away_WP_pre, Home_WP_post, Away_WP_post, Win_Prob, WPA, airWPA, ...]\nIndex: []\n\n[0 rows x 102 columns]",
            "text/html": "<div>\n<style scoped>\n    .dataframe tbody tr th:only-of-type {\n        vertical-align: middle;\n    }\n\n    .dataframe tbody tr th {\n        vertical-align: top;\n    }\n\n    .dataframe thead th {\n        text-align: right;\n    }\n</style>\n<table border=\"1\" class=\"dataframe\">\n  <thead>\n    <tr style=\"text-align: right;\">\n      <th></th>\n      <th>Date</th>\n      <th>GameID</th>\n      <th>Drive</th>\n      <th>qtr</th>\n      <th>down</th>\n      <th>time</th>\n      <th>TimeUnder</th>\n      <th>TimeSecs</th>\n      <th>PlayTimeDiff</th>\n      <th>SideofField</th>\n      <th>...</th>\n      <th>yacEPA</th>\n      <th>Home_WP_pre</th>\n      <th>Away_WP_pre</th>\n      <th>Home_WP_post</th>\n      <th>Away_WP_post</th>\n      <th>Win_Prob</th>\n      <th>WPA</th>\n      <th>airWPA</th>\n      <th>yacWPA</th>\n      <th>Season</th>\n    </tr>\n  </thead>\n  <tbody>\n  </tbody>\n</table>\n<p>0 rows × 102 columns</p>\n</div>"
          },
          "metadata": {}
        }
      ]
    },
    {
      "metadata": {
        "_uuid": "33eb849e076d2a4d0c409f58d78b5f303879b1b3",
        "_cell_guid": "e0545655-3d37-448b-ae56-2c7707cd805d"
      },
      "cell_type": "markdown",
      "source": "Oh dear, it looks like that's removed all our data! 😱 This is because every row in our dataset had at least one missing value. We might have better luck removing all the *columns* that have at least one missing value instead."
    },
    {
      "metadata": {
        "_uuid": "87c569672854fe23e1ee9376ef3115ba4712cbf5",
        "_cell_guid": "97709ad4-f7b8-4cd0-8911-56e14db904ae",
        "trusted": true
      },
      "cell_type": "code",
      "source": "# remove all columns with at least one missing value\ncolumns_with_na_dropped = nfl_data.dropna(axis=1)\ncolumns_with_na_dropped.head()",
      "execution_count": 19,
      "outputs": [
        {
          "output_type": "execute_result",
          "execution_count": 19,
          "data": {
            "text/plain": "         Date      GameID  Drive  qtr  TimeUnder  ydstogo  ydsnet  \\\n0  2009-09-10  2009091000      1    1         15        0       0   \n1  2009-09-10  2009091000      1    1         15       10       5   \n2  2009-09-10  2009091000      1    1         15        5       2   \n3  2009-09-10  2009091000      1    1         14        8       2   \n4  2009-09-10  2009091000      1    1         14        8       2   \n\n   PlayAttempted  Yards.Gained  sp   ...    Timeout_Indicator  Timeout_Team  \\\n0              1            39   0   ...                    0          None   \n1              1             5   0   ...                    0          None   \n2              1            -3   0   ...                    0          None   \n3              1             0   0   ...                    0          None   \n4              1             0   0   ...                    0          None   \n\n   posteam_timeouts_pre HomeTimeouts_Remaining_Pre AwayTimeouts_Remaining_Pre  \\\n0                     3                          3                          3   \n1                     3                          3                          3   \n2                     3                          3                          3   \n3                     3                          3                          3   \n4                     3                          3                          3   \n\n   HomeTimeouts_Remaining_Post  AwayTimeouts_Remaining_Post  ExPoint_Prob  \\\n0                            3                            3           0.0   \n1                            3                            3           0.0   \n2                            3                            3           0.0   \n3                            3                            3           0.0   \n4                            3                            3           0.0   \n\n   TwoPoint_Prob  Season  \n0            0.0    2009  \n1            0.0    2009  \n2            0.0    2009  \n3            0.0    2009  \n4            0.0    2009  \n\n[5 rows x 41 columns]",
            "text/html": "<div>\n<style scoped>\n    .dataframe tbody tr th:only-of-type {\n        vertical-align: middle;\n    }\n\n    .dataframe tbody tr th {\n        vertical-align: top;\n    }\n\n    .dataframe thead th {\n        text-align: right;\n    }\n</style>\n<table border=\"1\" class=\"dataframe\">\n  <thead>\n    <tr style=\"text-align: right;\">\n      <th></th>\n      <th>Date</th>\n      <th>GameID</th>\n      <th>Drive</th>\n      <th>qtr</th>\n      <th>TimeUnder</th>\n      <th>ydstogo</th>\n      <th>ydsnet</th>\n      <th>PlayAttempted</th>\n      <th>Yards.Gained</th>\n      <th>sp</th>\n      <th>...</th>\n      <th>Timeout_Indicator</th>\n      <th>Timeout_Team</th>\n      <th>posteam_timeouts_pre</th>\n      <th>HomeTimeouts_Remaining_Pre</th>\n      <th>AwayTimeouts_Remaining_Pre</th>\n      <th>HomeTimeouts_Remaining_Post</th>\n      <th>AwayTimeouts_Remaining_Post</th>\n      <th>ExPoint_Prob</th>\n      <th>TwoPoint_Prob</th>\n      <th>Season</th>\n    </tr>\n  </thead>\n  <tbody>\n    <tr>\n      <th>0</th>\n      <td>2009-09-10</td>\n      <td>2009091000</td>\n      <td>1</td>\n      <td>1</td>\n      <td>15</td>\n      <td>0</td>\n      <td>0</td>\n      <td>1</td>\n      <td>39</td>\n      <td>0</td>\n      <td>...</td>\n      <td>0</td>\n      <td>None</td>\n      <td>3</td>\n      <td>3</td>\n      <td>3</td>\n      <td>3</td>\n      <td>3</td>\n      <td>0.0</td>\n      <td>0.0</td>\n      <td>2009</td>\n    </tr>\n    <tr>\n      <th>1</th>\n      <td>2009-09-10</td>\n      <td>2009091000</td>\n      <td>1</td>\n      <td>1</td>\n      <td>15</td>\n      <td>10</td>\n      <td>5</td>\n      <td>1</td>\n      <td>5</td>\n      <td>0</td>\n      <td>...</td>\n      <td>0</td>\n      <td>None</td>\n      <td>3</td>\n      <td>3</td>\n      <td>3</td>\n      <td>3</td>\n      <td>3</td>\n      <td>0.0</td>\n      <td>0.0</td>\n      <td>2009</td>\n    </tr>\n    <tr>\n      <th>2</th>\n      <td>2009-09-10</td>\n      <td>2009091000</td>\n      <td>1</td>\n      <td>1</td>\n      <td>15</td>\n      <td>5</td>\n      <td>2</td>\n      <td>1</td>\n      <td>-3</td>\n      <td>0</td>\n      <td>...</td>\n      <td>0</td>\n      <td>None</td>\n      <td>3</td>\n      <td>3</td>\n      <td>3</td>\n      <td>3</td>\n      <td>3</td>\n      <td>0.0</td>\n      <td>0.0</td>\n      <td>2009</td>\n    </tr>\n    <tr>\n      <th>3</th>\n      <td>2009-09-10</td>\n      <td>2009091000</td>\n      <td>1</td>\n      <td>1</td>\n      <td>14</td>\n      <td>8</td>\n      <td>2</td>\n      <td>1</td>\n      <td>0</td>\n      <td>0</td>\n      <td>...</td>\n      <td>0</td>\n      <td>None</td>\n      <td>3</td>\n      <td>3</td>\n      <td>3</td>\n      <td>3</td>\n      <td>3</td>\n      <td>0.0</td>\n      <td>0.0</td>\n      <td>2009</td>\n    </tr>\n    <tr>\n      <th>4</th>\n      <td>2009-09-10</td>\n      <td>2009091000</td>\n      <td>1</td>\n      <td>1</td>\n      <td>14</td>\n      <td>8</td>\n      <td>2</td>\n      <td>1</td>\n      <td>0</td>\n      <td>0</td>\n      <td>...</td>\n      <td>0</td>\n      <td>None</td>\n      <td>3</td>\n      <td>3</td>\n      <td>3</td>\n      <td>3</td>\n      <td>3</td>\n      <td>0.0</td>\n      <td>0.0</td>\n      <td>2009</td>\n    </tr>\n  </tbody>\n</table>\n<p>5 rows × 41 columns</p>\n</div>"
          },
          "metadata": {}
        }
      ]
    },
    {
      "metadata": {
        "_uuid": "e60a092d2799851aa725eadf28b197022a6b127f",
        "_cell_guid": "0e51b19b-c44d-4487-8417-725d2b911739",
        "trusted": true
      },
      "cell_type": "code",
      "source": "# just how much data did we lose?\nprint(\"Columns in original dataset: %d \\n\" % nfl_data.shape[1])\nprint(\"Columns with na's dropped: %d\" % columns_with_na_dropped.shape[1])",
      "execution_count": 20,
      "outputs": [
        {
          "output_type": "stream",
          "text": "Columns in original dataset: 102 \n\nColumns with na's dropped: 41\n",
          "name": "stdout"
        }
      ]
    },
    {
      "metadata": {
        "_uuid": "bac84fee4ca849e54839c716c43dddfbb559954b",
        "_cell_guid": "f417c614-f77f-45eb-b16b-fdc0be936502"
      },
      "cell_type": "markdown",
      "source": "We've lost quite a bit of data, but at this point we have successfully removed all the `NaN`'s from our data. "
    },
    {
      "metadata": {
        "_uuid": "8207912f74712835283f7e1b30dad0471ee2e1fc",
        "_cell_guid": "0fe94654-7dad-4e8d-bbbb-e65e2bb2f767",
        "trusted": true
      },
      "cell_type": "code",
      "source": "# Your turn! Try removing all the rows from the sf_permits dataset that contain missing values. How many are left?\ncolumns_with_na_dropped2 = sf_permits.dropna(axis=1)\ncolumns_with_na_dropped2.head()",
      "execution_count": 22,
      "outputs": [
        {
          "output_type": "execute_result",
          "execution_count": 22,
          "data": {
            "text/plain": "  Permit Number  Permit Type            Permit Type Definition  \\\n0  201505065519            4                      sign - erect   \n1  201604195146            4                      sign - erect   \n2  201605278609            3  additions alterations or repairs   \n3  201611072166            8            otc alterations permit   \n4  201611283529            6                       demolitions   \n\n  Permit Creation Date Block  Lot  Street Number Street Name Current Status  \\\n0           05/06/2015  0326  023            140       Ellis        expired   \n1           04/19/2016  0306  007            440       Geary         issued   \n2           05/27/2016  0595  203           1647     Pacific      withdrawn   \n3           11/07/2016  0156  011           1230     Pacific       complete   \n4           11/28/2016  0342  001            950      Market         issued   \n\n  Current Status Date  Filed Date      Record ID  \n0          12/21/2017  05/06/2015  1380611233945  \n1          08/03/2017  04/19/2016  1420164406718  \n2          09/26/2017  05/27/2016  1424856504716  \n3          07/24/2017  11/07/2016  1443574295566  \n4          12/01/2017  11/28/2016   144548169992  ",
            "text/html": "<div>\n<style scoped>\n    .dataframe tbody tr th:only-of-type {\n        vertical-align: middle;\n    }\n\n    .dataframe tbody tr th {\n        vertical-align: top;\n    }\n\n    .dataframe thead th {\n        text-align: right;\n    }\n</style>\n<table border=\"1\" class=\"dataframe\">\n  <thead>\n    <tr style=\"text-align: right;\">\n      <th></th>\n      <th>Permit Number</th>\n      <th>Permit Type</th>\n      <th>Permit Type Definition</th>\n      <th>Permit Creation Date</th>\n      <th>Block</th>\n      <th>Lot</th>\n      <th>Street Number</th>\n      <th>Street Name</th>\n      <th>Current Status</th>\n      <th>Current Status Date</th>\n      <th>Filed Date</th>\n      <th>Record ID</th>\n    </tr>\n  </thead>\n  <tbody>\n    <tr>\n      <th>0</th>\n      <td>201505065519</td>\n      <td>4</td>\n      <td>sign - erect</td>\n      <td>05/06/2015</td>\n      <td>0326</td>\n      <td>023</td>\n      <td>140</td>\n      <td>Ellis</td>\n      <td>expired</td>\n      <td>12/21/2017</td>\n      <td>05/06/2015</td>\n      <td>1380611233945</td>\n    </tr>\n    <tr>\n      <th>1</th>\n      <td>201604195146</td>\n      <td>4</td>\n      <td>sign - erect</td>\n      <td>04/19/2016</td>\n      <td>0306</td>\n      <td>007</td>\n      <td>440</td>\n      <td>Geary</td>\n      <td>issued</td>\n      <td>08/03/2017</td>\n      <td>04/19/2016</td>\n      <td>1420164406718</td>\n    </tr>\n    <tr>\n      <th>2</th>\n      <td>201605278609</td>\n      <td>3</td>\n      <td>additions alterations or repairs</td>\n      <td>05/27/2016</td>\n      <td>0595</td>\n      <td>203</td>\n      <td>1647</td>\n      <td>Pacific</td>\n      <td>withdrawn</td>\n      <td>09/26/2017</td>\n      <td>05/27/2016</td>\n      <td>1424856504716</td>\n    </tr>\n    <tr>\n      <th>3</th>\n      <td>201611072166</td>\n      <td>8</td>\n      <td>otc alterations permit</td>\n      <td>11/07/2016</td>\n      <td>0156</td>\n      <td>011</td>\n      <td>1230</td>\n      <td>Pacific</td>\n      <td>complete</td>\n      <td>07/24/2017</td>\n      <td>11/07/2016</td>\n      <td>1443574295566</td>\n    </tr>\n    <tr>\n      <th>4</th>\n      <td>201611283529</td>\n      <td>6</td>\n      <td>demolitions</td>\n      <td>11/28/2016</td>\n      <td>0342</td>\n      <td>001</td>\n      <td>950</td>\n      <td>Market</td>\n      <td>issued</td>\n      <td>12/01/2017</td>\n      <td>11/28/2016</td>\n      <td>144548169992</td>\n    </tr>\n  </tbody>\n</table>\n</div>"
          },
          "metadata": {}
        }
      ]
    },
    {
      "metadata": {
        "_uuid": "f804c0448b18b6d411ddf8452d15abba8292fffa",
        "_cell_guid": "7ec643e1-abba-4683-b794-a1924e657501",
        "trusted": true
      },
      "cell_type": "code",
      "source": "# Now try removing all the columns with empty values. Now how much of your data is left?\nprint(\"Columns in original dataset: %d \\n\" % sf_permits.shape[1])\nprint(\"Columns with na's droppped: %d \" % columns_with_na_dropped2.shape[1])",
      "execution_count": 23,
      "outputs": [
        {
          "output_type": "stream",
          "text": "Columns in original dataset: 43 \n\nColumns with na's droppped: 12 \n",
          "name": "stdout"
        }
      ]
    },
    {
      "metadata": {
        "_uuid": "eb1ef8d47d9ebed77c3d21eca24708708ed4d45f",
        "_cell_guid": "1dbe153d-7b30-4ad8-80ad-a4c7fb53928e"
      },
      "cell_type": "markdown",
      "source": "# Filling in missing values automatically\n_____\n\nAnother option is to try and fill in the missing values. For this next bit, I'm getting a small sub-section of the NFL data so that it will print well."
    },
    {
      "metadata": {
        "_uuid": "e0944282c73a63513d5345689ddd6a9da0fc8547",
        "_cell_guid": "76fd83fb-a6d9-4c03-8c94-a111ee529881",
        "trusted": true
      },
      "cell_type": "code",
      "source": "# get a small subset of the NFL dataset\nsubset_nfl_data = nfl_data.loc[:, 'EPA':'Season'].head()\nsubset_nfl_data",
      "execution_count": 24,
      "outputs": [
        {
          "output_type": "execute_result",
          "execution_count": 24,
          "data": {
            "text/plain": "        EPA    airEPA    yacEPA  Home_WP_pre  Away_WP_pre  Home_WP_post  \\\n0  2.014474       NaN       NaN     0.485675     0.514325      0.546433   \n1  0.077907 -1.068169  1.146076     0.546433     0.453567      0.551088   \n2 -1.402760       NaN       NaN     0.551088     0.448912      0.510793   \n3 -1.712583  3.318841 -5.031425     0.510793     0.489207      0.461217   \n4  2.097796       NaN       NaN     0.461217     0.538783      0.558929   \n\n   Away_WP_post  Win_Prob       WPA    airWPA    yacWPA  Season  \n0      0.453567  0.485675  0.060758       NaN       NaN    2009  \n1      0.448912  0.546433  0.004655 -0.032244  0.036899    2009  \n2      0.489207  0.551088 -0.040295       NaN       NaN    2009  \n3      0.538783  0.510793 -0.049576  0.106663 -0.156239    2009  \n4      0.441071  0.461217  0.097712       NaN       NaN    2009  ",
            "text/html": "<div>\n<style scoped>\n    .dataframe tbody tr th:only-of-type {\n        vertical-align: middle;\n    }\n\n    .dataframe tbody tr th {\n        vertical-align: top;\n    }\n\n    .dataframe thead th {\n        text-align: right;\n    }\n</style>\n<table border=\"1\" class=\"dataframe\">\n  <thead>\n    <tr style=\"text-align: right;\">\n      <th></th>\n      <th>EPA</th>\n      <th>airEPA</th>\n      <th>yacEPA</th>\n      <th>Home_WP_pre</th>\n      <th>Away_WP_pre</th>\n      <th>Home_WP_post</th>\n      <th>Away_WP_post</th>\n      <th>Win_Prob</th>\n      <th>WPA</th>\n      <th>airWPA</th>\n      <th>yacWPA</th>\n      <th>Season</th>\n    </tr>\n  </thead>\n  <tbody>\n    <tr>\n      <th>0</th>\n      <td>2.014474</td>\n      <td>NaN</td>\n      <td>NaN</td>\n      <td>0.485675</td>\n      <td>0.514325</td>\n      <td>0.546433</td>\n      <td>0.453567</td>\n      <td>0.485675</td>\n      <td>0.060758</td>\n      <td>NaN</td>\n      <td>NaN</td>\n      <td>2009</td>\n    </tr>\n    <tr>\n      <th>1</th>\n      <td>0.077907</td>\n      <td>-1.068169</td>\n      <td>1.146076</td>\n      <td>0.546433</td>\n      <td>0.453567</td>\n      <td>0.551088</td>\n      <td>0.448912</td>\n      <td>0.546433</td>\n      <td>0.004655</td>\n      <td>-0.032244</td>\n      <td>0.036899</td>\n      <td>2009</td>\n    </tr>\n    <tr>\n      <th>2</th>\n      <td>-1.402760</td>\n      <td>NaN</td>\n      <td>NaN</td>\n      <td>0.551088</td>\n      <td>0.448912</td>\n      <td>0.510793</td>\n      <td>0.489207</td>\n      <td>0.551088</td>\n      <td>-0.040295</td>\n      <td>NaN</td>\n      <td>NaN</td>\n      <td>2009</td>\n    </tr>\n    <tr>\n      <th>3</th>\n      <td>-1.712583</td>\n      <td>3.318841</td>\n      <td>-5.031425</td>\n      <td>0.510793</td>\n      <td>0.489207</td>\n      <td>0.461217</td>\n      <td>0.538783</td>\n      <td>0.510793</td>\n      <td>-0.049576</td>\n      <td>0.106663</td>\n      <td>-0.156239</td>\n      <td>2009</td>\n    </tr>\n    <tr>\n      <th>4</th>\n      <td>2.097796</td>\n      <td>NaN</td>\n      <td>NaN</td>\n      <td>0.461217</td>\n      <td>0.538783</td>\n      <td>0.558929</td>\n      <td>0.441071</td>\n      <td>0.461217</td>\n      <td>0.097712</td>\n      <td>NaN</td>\n      <td>NaN</td>\n      <td>2009</td>\n    </tr>\n  </tbody>\n</table>\n</div>"
          },
          "metadata": {}
        }
      ]
    },
    {
      "metadata": {
        "_uuid": "f8cfe916904af3265d8ecc4f791f9f62e34ff458",
        "_cell_guid": "527c8703-4b29-459d-af7d-5505da36016b"
      },
      "cell_type": "markdown",
      "source": "We can use the Panda's fillna() function to fill in missing values in a dataframe for us. One option we have is to specify what we want the `NaN` values to be replaced with. Here, I'm saying that I would like to replace all the `NaN` values with 0."
    },
    {
      "metadata": {
        "_uuid": "77eac530ce398b8c13eb7886f86bce48fd997f34",
        "_cell_guid": "c01ed989-8901-43c8-afa3-6ca36605dfb5",
        "trusted": true
      },
      "cell_type": "code",
      "source": "# replace all NA's with 0\nsubset_nfl_data.fillna(0)",
      "execution_count": 25,
      "outputs": [
        {
          "output_type": "execute_result",
          "execution_count": 25,
          "data": {
            "text/plain": "        EPA    airEPA    yacEPA  Home_WP_pre  Away_WP_pre  Home_WP_post  \\\n0  2.014474  0.000000  0.000000     0.485675     0.514325      0.546433   \n1  0.077907 -1.068169  1.146076     0.546433     0.453567      0.551088   \n2 -1.402760  0.000000  0.000000     0.551088     0.448912      0.510793   \n3 -1.712583  3.318841 -5.031425     0.510793     0.489207      0.461217   \n4  2.097796  0.000000  0.000000     0.461217     0.538783      0.558929   \n\n   Away_WP_post  Win_Prob       WPA    airWPA    yacWPA  Season  \n0      0.453567  0.485675  0.060758  0.000000  0.000000    2009  \n1      0.448912  0.546433  0.004655 -0.032244  0.036899    2009  \n2      0.489207  0.551088 -0.040295  0.000000  0.000000    2009  \n3      0.538783  0.510793 -0.049576  0.106663 -0.156239    2009  \n4      0.441071  0.461217  0.097712  0.000000  0.000000    2009  ",
            "text/html": "<div>\n<style scoped>\n    .dataframe tbody tr th:only-of-type {\n        vertical-align: middle;\n    }\n\n    .dataframe tbody tr th {\n        vertical-align: top;\n    }\n\n    .dataframe thead th {\n        text-align: right;\n    }\n</style>\n<table border=\"1\" class=\"dataframe\">\n  <thead>\n    <tr style=\"text-align: right;\">\n      <th></th>\n      <th>EPA</th>\n      <th>airEPA</th>\n      <th>yacEPA</th>\n      <th>Home_WP_pre</th>\n      <th>Away_WP_pre</th>\n      <th>Home_WP_post</th>\n      <th>Away_WP_post</th>\n      <th>Win_Prob</th>\n      <th>WPA</th>\n      <th>airWPA</th>\n      <th>yacWPA</th>\n      <th>Season</th>\n    </tr>\n  </thead>\n  <tbody>\n    <tr>\n      <th>0</th>\n      <td>2.014474</td>\n      <td>0.000000</td>\n      <td>0.000000</td>\n      <td>0.485675</td>\n      <td>0.514325</td>\n      <td>0.546433</td>\n      <td>0.453567</td>\n      <td>0.485675</td>\n      <td>0.060758</td>\n      <td>0.000000</td>\n      <td>0.000000</td>\n      <td>2009</td>\n    </tr>\n    <tr>\n      <th>1</th>\n      <td>0.077907</td>\n      <td>-1.068169</td>\n      <td>1.146076</td>\n      <td>0.546433</td>\n      <td>0.453567</td>\n      <td>0.551088</td>\n      <td>0.448912</td>\n      <td>0.546433</td>\n      <td>0.004655</td>\n      <td>-0.032244</td>\n      <td>0.036899</td>\n      <td>2009</td>\n    </tr>\n    <tr>\n      <th>2</th>\n      <td>-1.402760</td>\n      <td>0.000000</td>\n      <td>0.000000</td>\n      <td>0.551088</td>\n      <td>0.448912</td>\n      <td>0.510793</td>\n      <td>0.489207</td>\n      <td>0.551088</td>\n      <td>-0.040295</td>\n      <td>0.000000</td>\n      <td>0.000000</td>\n      <td>2009</td>\n    </tr>\n    <tr>\n      <th>3</th>\n      <td>-1.712583</td>\n      <td>3.318841</td>\n      <td>-5.031425</td>\n      <td>0.510793</td>\n      <td>0.489207</td>\n      <td>0.461217</td>\n      <td>0.538783</td>\n      <td>0.510793</td>\n      <td>-0.049576</td>\n      <td>0.106663</td>\n      <td>-0.156239</td>\n      <td>2009</td>\n    </tr>\n    <tr>\n      <th>4</th>\n      <td>2.097796</td>\n      <td>0.000000</td>\n      <td>0.000000</td>\n      <td>0.461217</td>\n      <td>0.538783</td>\n      <td>0.558929</td>\n      <td>0.441071</td>\n      <td>0.461217</td>\n      <td>0.097712</td>\n      <td>0.000000</td>\n      <td>0.000000</td>\n      <td>2009</td>\n    </tr>\n  </tbody>\n</table>\n</div>"
          },
          "metadata": {}
        }
      ]
    },
    {
      "metadata": {
        "_uuid": "bec603202c6bfaae7a49b4a4042f37019ad1d801",
        "_cell_guid": "1103b725-c823-4f40-9bda-e97997856339"
      },
      "cell_type": "markdown",
      "source": "I could also be a bit more savvy and replace missing values with whatever value comes directly after it in the same column. (This makes a lot of sense for datasets where the observations have some sort of logical order to them.)"
    },
    {
      "metadata": {
        "_uuid": "afba99aa7897539e9a0af77dce03daab94d0ca68",
        "_cell_guid": "90ddac9b-ee20-492e-b437-0519c97ca317",
        "trusted": true
      },
      "cell_type": "code",
      "source": "# replace all NA's the value that comes directly after it in the same column, \n# then replace all the reamining na's with 0\nsubset_nfl_data.fillna(method = 'bfill', axis=0).fillna(\"0\")",
      "execution_count": 26,
      "outputs": [
        {
          "output_type": "execute_result",
          "execution_count": 26,
          "data": {
            "text/plain": "        EPA   airEPA   yacEPA  Home_WP_pre  Away_WP_pre  Home_WP_post  \\\n0  2.014474 -1.06817  1.14608     0.485675     0.514325      0.546433   \n1  0.077907 -1.06817  1.14608     0.546433     0.453567      0.551088   \n2 -1.402760  3.31884 -5.03142     0.551088     0.448912      0.510793   \n3 -1.712583  3.31884 -5.03142     0.510793     0.489207      0.461217   \n4  2.097796        0        0     0.461217     0.538783      0.558929   \n\n   Away_WP_post  Win_Prob       WPA    airWPA    yacWPA  Season  \n0      0.453567  0.485675  0.060758 -0.032244  0.036899    2009  \n1      0.448912  0.546433  0.004655 -0.032244  0.036899    2009  \n2      0.489207  0.551088 -0.040295  0.106663 -0.156239    2009  \n3      0.538783  0.510793 -0.049576  0.106663 -0.156239    2009  \n4      0.441071  0.461217  0.097712         0         0    2009  ",
            "text/html": "<div>\n<style scoped>\n    .dataframe tbody tr th:only-of-type {\n        vertical-align: middle;\n    }\n\n    .dataframe tbody tr th {\n        vertical-align: top;\n    }\n\n    .dataframe thead th {\n        text-align: right;\n    }\n</style>\n<table border=\"1\" class=\"dataframe\">\n  <thead>\n    <tr style=\"text-align: right;\">\n      <th></th>\n      <th>EPA</th>\n      <th>airEPA</th>\n      <th>yacEPA</th>\n      <th>Home_WP_pre</th>\n      <th>Away_WP_pre</th>\n      <th>Home_WP_post</th>\n      <th>Away_WP_post</th>\n      <th>Win_Prob</th>\n      <th>WPA</th>\n      <th>airWPA</th>\n      <th>yacWPA</th>\n      <th>Season</th>\n    </tr>\n  </thead>\n  <tbody>\n    <tr>\n      <th>0</th>\n      <td>2.014474</td>\n      <td>-1.06817</td>\n      <td>1.14608</td>\n      <td>0.485675</td>\n      <td>0.514325</td>\n      <td>0.546433</td>\n      <td>0.453567</td>\n      <td>0.485675</td>\n      <td>0.060758</td>\n      <td>-0.032244</td>\n      <td>0.036899</td>\n      <td>2009</td>\n    </tr>\n    <tr>\n      <th>1</th>\n      <td>0.077907</td>\n      <td>-1.06817</td>\n      <td>1.14608</td>\n      <td>0.546433</td>\n      <td>0.453567</td>\n      <td>0.551088</td>\n      <td>0.448912</td>\n      <td>0.546433</td>\n      <td>0.004655</td>\n      <td>-0.032244</td>\n      <td>0.036899</td>\n      <td>2009</td>\n    </tr>\n    <tr>\n      <th>2</th>\n      <td>-1.402760</td>\n      <td>3.31884</td>\n      <td>-5.03142</td>\n      <td>0.551088</td>\n      <td>0.448912</td>\n      <td>0.510793</td>\n      <td>0.489207</td>\n      <td>0.551088</td>\n      <td>-0.040295</td>\n      <td>0.106663</td>\n      <td>-0.156239</td>\n      <td>2009</td>\n    </tr>\n    <tr>\n      <th>3</th>\n      <td>-1.712583</td>\n      <td>3.31884</td>\n      <td>-5.03142</td>\n      <td>0.510793</td>\n      <td>0.489207</td>\n      <td>0.461217</td>\n      <td>0.538783</td>\n      <td>0.510793</td>\n      <td>-0.049576</td>\n      <td>0.106663</td>\n      <td>-0.156239</td>\n      <td>2009</td>\n    </tr>\n    <tr>\n      <th>4</th>\n      <td>2.097796</td>\n      <td>0</td>\n      <td>0</td>\n      <td>0.461217</td>\n      <td>0.538783</td>\n      <td>0.558929</td>\n      <td>0.441071</td>\n      <td>0.461217</td>\n      <td>0.097712</td>\n      <td>0</td>\n      <td>0</td>\n      <td>2009</td>\n    </tr>\n  </tbody>\n</table>\n</div>"
          },
          "metadata": {}
        }
      ]
    },
    {
      "metadata": {
        "_uuid": "1f8ac8b52f2933612e315f06a53185e164e6c5bc",
        "_cell_guid": "980e5d67-7e9c-41a3-b17e-51d87e9da9cf"
      },
      "cell_type": "markdown",
      "source": "Filling in missing values is also known as \"imputation\", and you can find more exercises on it [in this lesson, also linked under the \"More practice!\" section](https://www.kaggle.com/dansbecker/handling-missing-values). First, however, why don't you try replacing some of the missing values in the sf_permit dataset?"
    },
    {
      "metadata": {
        "_uuid": "f7d403c19eaf31ee0a4e04b9e1119eda96a9f95c",
        "collapsed": true,
        "_cell_guid": "da426397-7e17-40ce-a0d4-ca6d39e47498",
        "trusted": false
      },
      "cell_type": "code",
      "source": "# Your turn! Try replacing all the NaN's in the sf_permit data with the one that\n# comes directly after it and then ",
      "execution_count": null,
      "outputs": []
    },
    {
      "metadata": {
        "_uuid": "52b0af56e3c77db96056e9acd785f8f435f7caf5",
        "_cell_guid": "b4f37fce-4d08-409e-bbbd-6a26c3bbc6ee"
      },
      "cell_type": "markdown",
      "source": "And that's it for today! If you have any questions, be sure to post them in the comments below or [on the forums](https://www.kaggle.com/questions-and-answers). \n\nRemember that your notebook is private by default, and in order to share it with other people or ask for help with it, you'll need to make it public. First, you'll need to save a version of your notebook that shows your current work by hitting the \"Commit & Run\" button. (Your work is saved automatically, but versioning your work lets you go back and look at what it was like at the point you saved it. It also let's you share a nice compiled notebook instead of just the raw code.) Then, once your notebook is finished running, you can go to the Settings tab in the panel to the left (you may have to expand it by hitting the [<] button next to the \"Commit & Run\" button) and setting the \"Visibility\" dropdown to \"Public\".\n\n# More practice!\n___\n\nIf you're looking for more practice handling missing values, check out these extra-credit\\* exercises:\n\n* [Handling Missing Values](https://www.kaggle.com/dansbecker/handling-missing-values): In this notebook Dan shows you several approaches to imputing missing data using scikit-learn's imputer. \n* Look back at the `Zipcode` column in the `sf_permits` dataset, which has some missing values. How would you go about figuring out what the actual zipcode of each address should be? (You might try using another dataset, like the [OpenAddresses dataset](https://www.kaggle.com/openaddresses/openaddresses-us-west).) \n\n\\* no actual credit is given for completing the challenge, you just learn how to clean data real good :P"
    }
  ],
  "metadata": {
    "kernelspec": {
      "display_name": "Python 3",
      "language": "python",
      "name": "python3"
    },
    "language_info": {
      "name": "python",
      "version": "3.6.4",
      "mimetype": "text/x-python",
      "codemirror_mode": {
        "name": "ipython",
        "version": 3
      },
      "pygments_lexer": "ipython3",
      "nbconvert_exporter": "python",
      "file_extension": ".py"
    }
  },
  "nbformat": 4,
  "nbformat_minor": 1
}